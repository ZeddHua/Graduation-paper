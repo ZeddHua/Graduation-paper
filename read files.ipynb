{
 "cells": [
  {
   "cell_type": "markdown",
   "id": "uniform-potato",
   "metadata": {},
   "source": [
    "**<font size=4 color=blue>f.read()</font>** return str\n",
    "- 一次性读取所有内容\n",
    "- str形式存储"
   ]
  },
  {
   "cell_type": "code",
   "execution_count": 11,
   "id": "particular-exhibit",
   "metadata": {
    "execution": {
     "iopub.execute_input": "2021-03-26T02:48:35.935440Z",
     "iopub.status.busy": "2021-03-26T02:48:35.935440Z",
     "iopub.status.idle": "2021-03-26T02:48:35.940879Z",
     "shell.execute_reply": "2021-03-26T02:48:35.940411Z",
     "shell.execute_reply.started": "2021-03-26T02:48:35.935440Z"
    }
   },
   "outputs": [
    {
     "data": {
      "text/plain": [
       "'hello world，中国你好\\n啊 啊 啊\\n哈哈哈哈哈哈哈哈哈哈'"
      ]
     },
     "execution_count": 11,
     "metadata": {},
     "output_type": "execute_result"
    }
   ],
   "source": [
    "with open(r'../1.txt', 'r', encoding='utf-8') as f:\n",
    "    lines = f.read()\n",
    "lines"
   ]
  },
  {
   "cell_type": "code",
   "execution_count": 8,
   "id": "scheduled-armor",
   "metadata": {
    "execution": {
     "iopub.execute_input": "2021-03-26T01:20:50.510113Z",
     "iopub.status.busy": "2021-03-26T01:20:50.510113Z",
     "iopub.status.idle": "2021-03-26T01:20:50.514102Z",
     "shell.execute_reply": "2021-03-26T01:20:50.514102Z",
     "shell.execute_reply.started": "2021-03-26T01:20:50.510113Z"
    }
   },
   "outputs": [
    {
     "data": {
      "text/plain": [
       "['hello world，中国你好', '啊 啊 啊', '哈哈哈哈哈哈哈哈哈哈']"
      ]
     },
     "execution_count": 8,
     "metadata": {},
     "output_type": "execute_result"
    }
   ],
   "source": [
    "lines.split('\\n')"
   ]
  },
  {
   "cell_type": "markdown",
   "id": "constant-technician",
   "metadata": {},
   "source": [
    "**<font size=4 color=blue>f.readlines()</font>** return list\n",
    "- 优点：将文件中所有内容一次性的传入lines列表中，列表lines每一个元素为文件中的一行。\n",
    "- 缺点：读取文件内容过于庞大，将出现内存不足或者内存溢出的现象。"
   ]
  },
  {
   "cell_type": "code",
   "execution_count": 8,
   "id": "distributed-trademark",
   "metadata": {
    "execution": {
     "iopub.execute_input": "2021-03-26T02:45:41.074434Z",
     "iopub.status.busy": "2021-03-26T02:45:41.074434Z",
     "iopub.status.idle": "2021-03-26T02:45:41.079543Z",
     "shell.execute_reply": "2021-03-26T02:45:41.078773Z",
     "shell.execute_reply.started": "2021-03-26T02:45:41.074434Z"
    }
   },
   "outputs": [
    {
     "data": {
      "text/plain": [
       "['hello world，中国你好\\n', '啊 啊 啊\\n', '哈哈哈哈哈哈哈哈哈哈']"
      ]
     },
     "execution_count": 8,
     "metadata": {},
     "output_type": "execute_result"
    }
   ],
   "source": [
    "with open(r'../1.txt', 'r', encoding='utf-8') as f:\n",
    "    lines = f.readlines()\n",
    "lines"
   ]
  },
  {
   "cell_type": "code",
   "execution_count": 9,
   "id": "sweet-rouge",
   "metadata": {
    "execution": {
     "iopub.execute_input": "2021-03-26T02:45:54.760437Z",
     "iopub.status.busy": "2021-03-26T02:45:54.760437Z",
     "iopub.status.idle": "2021-03-26T02:45:54.765424Z",
     "shell.execute_reply": "2021-03-26T02:45:54.765424Z",
     "shell.execute_reply.started": "2021-03-26T02:45:54.760437Z"
    }
   },
   "outputs": [
    {
     "data": {
      "text/plain": [
       "['helloworld，中国你好\\n', '啊啊啊\\n', '哈哈哈哈哈哈哈哈哈哈']"
      ]
     },
     "execution_count": 9,
     "metadata": {},
     "output_type": "execute_result"
    }
   ],
   "source": [
    "with open(r'../1.txt', 'r', encoding='utf-8') as f:\n",
    "    lines = f.readlines()\n",
    "    line_list = []\n",
    "    for line in lines:\n",
    "        line = line.replace(' ','')\n",
    "        line_list.append(line)\n",
    "line_list"
   ]
  },
  {
   "cell_type": "markdown",
   "id": "mental-grove",
   "metadata": {},
   "source": [
    "**<font size=4 color=blue>f.readline()</font>** return str\n",
    "- 这种方法是readlines()的优化，每次只将文件中的一行读取到内存中，极大的减轻的内存的压力。两者在时间上无太明显的差异。 读取为str"
   ]
  },
  {
   "cell_type": "code",
   "execution_count": 16,
   "id": "recognized-hammer",
   "metadata": {
    "execution": {
     "iopub.execute_input": "2021-03-26T01:44:13.606856Z",
     "iopub.status.busy": "2021-03-26T01:44:13.605858Z",
     "iopub.status.idle": "2021-03-26T01:44:13.611842Z",
     "shell.execute_reply": "2021-03-26T01:44:13.611842Z",
     "shell.execute_reply.started": "2021-03-26T01:44:13.606856Z"
    }
   },
   "outputs": [
    {
     "data": {
      "text/plain": [
       "['hello world，中国你好\\n', '啊 啊 啊\\n', '哈哈哈哈哈哈哈哈哈哈']"
      ]
     },
     "execution_count": 16,
     "metadata": {},
     "output_type": "execute_result"
    }
   ],
   "source": [
    "with open(r'../1.txt', 'r', encoding='utf-8') as f:\n",
    "    lss = []\n",
    "    line = f.readline()\n",
    "    while line:\n",
    "        lss.append(line)\n",
    "        line = f.readline()\n",
    "lss"
   ]
  },
  {
   "cell_type": "code",
   "execution_count": 19,
   "id": "handled-pioneer",
   "metadata": {
    "execution": {
     "iopub.execute_input": "2021-03-26T02:02:33.365457Z",
     "iopub.status.busy": "2021-03-26T02:02:33.365457Z",
     "iopub.status.idle": "2021-03-26T02:02:33.370443Z",
     "shell.execute_reply": "2021-03-26T02:02:33.370443Z",
     "shell.execute_reply.started": "2021-03-26T02:02:33.365457Z"
    }
   },
   "outputs": [
    {
     "data": {
      "text/plain": [
       "'hello world，中国你好\\n\\t啊 啊 啊\\n\\t哈哈哈哈哈哈哈哈哈哈'"
      ]
     },
     "execution_count": 19,
     "metadata": {},
     "output_type": "execute_result"
    }
   ],
   "source": [
    "ss = '\\n'.join(lss)\n",
    "ss"
   ]
  }
 ],
 "metadata": {
  "kernelspec": {
   "display_name": "Python 3",
   "language": "python",
   "name": "python3"
  },
  "language_info": {
   "codemirror_mode": {
    "name": "ipython",
    "version": 3
   },
   "file_extension": ".py",
   "mimetype": "text/x-python",
   "name": "python",
   "nbconvert_exporter": "python",
   "pygments_lexer": "ipython3",
   "version": "3.8.8"
  }
 },
 "nbformat": 4,
 "nbformat_minor": 5
}
