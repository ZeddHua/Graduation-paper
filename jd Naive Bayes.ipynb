{
 "cells": [
  {
   "cell_type": "code",
   "execution_count": 1,
   "id": "loved-recall",
   "metadata": {
    "execution": {
     "iopub.execute_input": "2021-02-25T07:53:00.473240Z",
     "iopub.status.busy": "2021-02-25T07:53:00.473240Z",
     "iopub.status.idle": "2021-02-25T07:53:02.577831Z",
     "shell.execute_reply": "2021-02-25T07:53:02.577831Z",
     "shell.execute_reply.started": "2021-02-25T07:53:00.473240Z"
    }
   },
   "outputs": [],
   "source": [
    "import pymysql\n",
    "import pandas as pd\n",
    "import winsound\n",
    "\n",
    "db = pymysql.connect(host = 'localhost',user = 'root',password = '123456',db = 'zeddhzm',charset='utf8')   \n",
    "cur = db.cursor()   \n",
    "sql = \"SELECT * FROM jdcomment_new_2_classified\"\n",
    "cur.execute(sql)\n",
    "result = cur.fetchall()\n",
    "df = pd.DataFrame(list(result),columns=['ID','NICKNAME','CONTENT','CONTENT_LENGTH','CREATIONTIME','SCORE','REPLYCOUNT','IMAGESTATUS','IMAGECOUNT','USEFULVOTECOUNT','date','date_now','timedelta','COMPLETENESS','whether_useful'])\n",
    "cur.close()\n",
    "db.close()\n",
    "winsound.Beep(300,1000)"
   ]
  },
  {
   "cell_type": "code",
   "execution_count": 2,
   "id": "severe-enlargement",
   "metadata": {
    "execution": {
     "iopub.execute_input": "2021-02-25T07:53:02.579827Z",
     "iopub.status.busy": "2021-02-25T07:53:02.578829Z",
     "iopub.status.idle": "2021-02-25T07:53:02.584813Z",
     "shell.execute_reply": "2021-02-25T07:53:02.584813Z",
     "shell.execute_reply.started": "2021-02-25T07:53:02.579827Z"
    }
   },
   "outputs": [],
   "source": [
    "dff = df.copy()"
   ]
  },
  {
   "cell_type": "code",
   "execution_count": 3,
   "id": "utility-notebook",
   "metadata": {
    "execution": {
     "iopub.execute_input": "2021-02-25T07:53:02.586807Z",
     "iopub.status.busy": "2021-02-25T07:53:02.586807Z",
     "iopub.status.idle": "2021-02-25T07:53:02.598800Z",
     "shell.execute_reply": "2021-02-25T07:53:02.598800Z",
     "shell.execute_reply.started": "2021-02-25T07:53:02.586807Z"
    }
   },
   "outputs": [],
   "source": [
    "from sklearn import naive_bayes\n",
    "from sklearn.model_selection import train_test_split\n",
    "from sklearn.preprocessing import StandardScaler   \n",
    "    #概率模型（树形模型）不需要归一化，因为它们不关心变量的值，而是关心变量的分布和变量之间的条件概率，如决策树、RF。\n",
    "    #而像Adaboost、SVM、LR、Knn、KMeans之类的最优化问题就需要归一化。\n",
    "from sklearn import metrics"
   ]
  },
  {
   "cell_type": "code",
   "execution_count": 5,
   "id": "prescribed-medium",
   "metadata": {
    "execution": {
     "iopub.execute_input": "2021-02-25T07:54:04.538861Z",
     "iopub.status.busy": "2021-02-25T07:54:04.538861Z",
     "iopub.status.idle": "2021-02-25T07:54:04.554817Z",
     "shell.execute_reply": "2021-02-25T07:54:04.554817Z",
     "shell.execute_reply.started": "2021-02-25T07:54:04.538861Z"
    }
   },
   "outputs": [],
   "source": [
    "all_x = dff[['CONTENT_LENGTH','SCORE','REPLYCOUNT','IMAGECOUNT','timedelta','COMPLETENESS']]\n",
    "all_y = dff['whether_useful']\n",
    "x_train,x_test,y_train,y_test = train_test_split(all_x,all_y,train_size=0.7,random_state=30)\n",
    "x_train = StandardScaler().fit_transform(x_train)\n",
    "x_test = StandardScaler().fit_transform(x_test)"
   ]
  },
  {
   "cell_type": "code",
   "execution_count": 7,
   "id": "welcome-oxide",
   "metadata": {
    "execution": {
     "iopub.execute_input": "2021-02-25T07:55:36.317731Z",
     "iopub.status.busy": "2021-02-25T07:55:36.317731Z",
     "iopub.status.idle": "2021-02-25T07:55:36.329699Z",
     "shell.execute_reply": "2021-02-25T07:55:36.329699Z",
     "shell.execute_reply.started": "2021-02-25T07:55:36.317731Z"
    }
   },
   "outputs": [
    {
     "name": "stdout",
     "output_type": "stream",
     "text": [
      "Accuracy : 0.89586\n"
     ]
    }
   ],
   "source": [
    "nb_0 = naive_bayes.GaussianNB()   #假设了数据符合高斯分布\n",
    "nb_0.fit(x_train,y_train)\n",
    "y_pred = nb_0.predict(x_test)\n",
    "print ('Accuracy : %.5f' % metrics.accuracy_score(y_test, y_pred))"
   ]
  },
  {
   "cell_type": "code",
   "execution_count": 8,
   "id": "grave-bread",
   "metadata": {
    "execution": {
     "iopub.execute_input": "2021-02-25T08:01:11.122493Z",
     "iopub.status.busy": "2021-02-25T08:01:11.122493Z",
     "iopub.status.idle": "2021-02-25T08:01:11.135484Z",
     "shell.execute_reply": "2021-02-25T08:01:11.135484Z",
     "shell.execute_reply.started": "2021-02-25T08:01:11.122493Z"
    }
   },
   "outputs": [
    {
     "data": {
      "text/plain": [
       "0.8958645811013499"
      ]
     },
     "execution_count": 8,
     "metadata": {},
     "output_type": "execute_result"
    }
   ],
   "source": [
    "nb_0.score(x_test,y_test)"
   ]
  },
  {
   "cell_type": "code",
   "execution_count": 9,
   "id": "superior-prayer",
   "metadata": {
    "execution": {
     "iopub.execute_input": "2021-02-25T08:01:41.097423Z",
     "iopub.status.busy": "2021-02-25T08:01:41.097423Z",
     "iopub.status.idle": "2021-02-25T08:01:41.103442Z",
     "shell.execute_reply": "2021-02-25T08:01:41.103442Z",
     "shell.execute_reply.started": "2021-02-25T08:01:41.097423Z"
    }
   },
   "outputs": [
    {
     "data": {
      "text/plain": [
       "0.8964092203140784"
      ]
     },
     "execution_count": 9,
     "metadata": {},
     "output_type": "execute_result"
    }
   ],
   "source": [
    "nb_0.score(x_train,y_train)"
   ]
  }
 ],
 "metadata": {
  "kernelspec": {
   "display_name": "Python 3",
   "language": "python",
   "name": "python3"
  },
  "language_info": {
   "codemirror_mode": {
    "name": "ipython",
    "version": 3
   },
   "file_extension": ".py",
   "mimetype": "text/x-python",
   "name": "python",
   "nbconvert_exporter": "python",
   "pygments_lexer": "ipython3",
   "version": "3.7.6"
  }
 },
 "nbformat": 4,
 "nbformat_minor": 5
}
