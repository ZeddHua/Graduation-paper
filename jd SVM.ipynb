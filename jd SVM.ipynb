{
 "cells": [
  {
   "cell_type": "code",
   "execution_count": 1,
   "id": "incident-helena",
   "metadata": {
    "execution": {
     "iopub.execute_input": "2021-02-14T02:45:14.232278Z",
     "iopub.status.busy": "2021-02-14T02:45:14.232278Z",
     "iopub.status.idle": "2021-02-14T02:45:18.070641Z",
     "shell.execute_reply": "2021-02-14T02:45:18.070641Z",
     "shell.execute_reply.started": "2021-02-14T02:45:14.232278Z"
    }
   },
   "outputs": [],
   "source": [
    "import pymysql\n",
    "import pandas as pd\n",
    "import winsound"
   ]
  },
  {
   "cell_type": "code",
   "execution_count": 2,
   "id": "nutritional-syndicate",
   "metadata": {
    "execution": {
     "iopub.execute_input": "2021-02-14T02:45:24.350803Z",
     "iopub.status.busy": "2021-02-14T02:45:24.350022Z",
     "iopub.status.idle": "2021-02-14T02:45:25.887018Z",
     "shell.execute_reply": "2021-02-14T02:45:25.886021Z",
     "shell.execute_reply.started": "2021-02-14T02:45:24.350803Z"
    }
   },
   "outputs": [],
   "source": [
    "db = pymysql.connect(host = 'localhost',user = 'root',password = '123456',db = 'zeddhzm',charset='utf8')   \n",
    "cur = db.cursor()   \n",
    "sql = \"SELECT * FROM jdcomment_new\"\n",
    "cur.execute(sql)\n",
    "result = cur.fetchall()\n",
    "df = pd.DataFrame(list(result),columns=['ID','NICKNAME','CONTENT','CONTENT_LENGTH','CONTENT_CUT','CREATIONTIME','SCORE','REPLYCOUNT','IMAGESTATUS','IMAGECOUNT','USEFULVOTECOUNT','date','date_now','timedelta'])\n",
    "cur.close()\n",
    "db.close()\n",
    "winsound.Beep(300,1000)"
   ]
  },
  {
   "cell_type": "code",
   "execution_count": 3,
   "id": "objective-opening",
   "metadata": {
    "execution": {
     "iopub.execute_input": "2021-02-14T02:45:26.879095Z",
     "iopub.status.busy": "2021-02-14T02:45:26.878444Z",
     "iopub.status.idle": "2021-02-14T02:45:26.884819Z",
     "shell.execute_reply": "2021-02-14T02:45:26.884079Z",
     "shell.execute_reply.started": "2021-02-14T02:45:26.879095Z"
    }
   },
   "outputs": [],
   "source": [
    "dff = df.copy()"
   ]
  },
  {
   "cell_type": "code",
   "execution_count": 4,
   "id": "indirect-chocolate",
   "metadata": {
    "execution": {
     "iopub.execute_input": "2021-02-14T02:45:27.972577Z",
     "iopub.status.busy": "2021-02-14T02:45:27.971981Z",
     "iopub.status.idle": "2021-02-14T02:45:27.997510Z",
     "shell.execute_reply": "2021-02-14T02:45:27.997510Z",
     "shell.execute_reply.started": "2021-02-14T02:45:27.972577Z"
    }
   },
   "outputs": [
    {
     "data": {
      "text/html": [
       "<div>\n",
       "<style scoped>\n",
       "    .dataframe tbody tr th:only-of-type {\n",
       "        vertical-align: middle;\n",
       "    }\n",
       "\n",
       "    .dataframe tbody tr th {\n",
       "        vertical-align: top;\n",
       "    }\n",
       "\n",
       "    .dataframe thead th {\n",
       "        text-align: right;\n",
       "    }\n",
       "</style>\n",
       "<table border=\"1\" class=\"dataframe\">\n",
       "  <thead>\n",
       "    <tr style=\"text-align: right;\">\n",
       "      <th></th>\n",
       "      <th>ID</th>\n",
       "      <th>NICKNAME</th>\n",
       "      <th>CONTENT</th>\n",
       "      <th>CONTENT_LENGTH</th>\n",
       "      <th>CONTENT_CUT</th>\n",
       "      <th>CREATIONTIME</th>\n",
       "      <th>SCORE</th>\n",
       "      <th>REPLYCOUNT</th>\n",
       "      <th>IMAGESTATUS</th>\n",
       "      <th>IMAGECOUNT</th>\n",
       "      <th>USEFULVOTECOUNT</th>\n",
       "      <th>date</th>\n",
       "      <th>date_now</th>\n",
       "      <th>timedelta</th>\n",
       "    </tr>\n",
       "  </thead>\n",
       "  <tbody>\n",
       "    <tr>\n",
       "      <th>0</th>\n",
       "      <td>13872879901</td>\n",
       "      <td>j***5</td>\n",
       "      <td>机器刚到手，就发布降价信息！服了，气管接口粗糙，屏幕连个膜都没有！写的记忆14次，实际10次...</td>\n",
       "      <td>56</td>\n",
       "      <td>机器 刚 到手 发布 降价 信息 服 气管 接口 粗糙 屏幕 连个 膜 没有 写 记忆 14...</td>\n",
       "      <td>2020-03-04 18:21:47</td>\n",
       "      <td>1</td>\n",
       "      <td>14</td>\n",
       "      <td>1</td>\n",
       "      <td>2</td>\n",
       "      <td>47</td>\n",
       "      <td>2020-03-04</td>\n",
       "      <td>2021-01-24</td>\n",
       "      <td>326</td>\n",
       "    </tr>\n",
       "    <tr>\n",
       "      <th>1</th>\n",
       "      <td>14916170593</td>\n",
       "      <td>海***行</td>\n",
       "      <td>你们这是@，知道么。用你们的血压计天天测都是120-130的，80-90的，要不是我去医院拿...</td>\n",
       "      <td>92</td>\n",
       "      <td>这是 @ 知道 血压计 天天 测都 120 - 130 80 - 90 医院 拿药 测 一下...</td>\n",
       "      <td>2020-11-16 21:01:30</td>\n",
       "      <td>1</td>\n",
       "      <td>10</td>\n",
       "      <td>0</td>\n",
       "      <td>0</td>\n",
       "      <td>10</td>\n",
       "      <td>2020-11-16</td>\n",
       "      <td>2021-01-24</td>\n",
       "      <td>69</td>\n",
       "    </tr>\n",
       "    <tr>\n",
       "      <th>2</th>\n",
       "      <td>12329148322</td>\n",
       "      <td>布***咔</td>\n",
       "      <td>不准，比医院用的高了11</td>\n",
       "      <td>12</td>\n",
       "      <td>不准 医院 高 11</td>\n",
       "      <td>2019-01-02 14:39:18</td>\n",
       "      <td>1</td>\n",
       "      <td>17</td>\n",
       "      <td>1</td>\n",
       "      <td>1</td>\n",
       "      <td>30</td>\n",
       "      <td>2019-01-02</td>\n",
       "      <td>2021-01-24</td>\n",
       "      <td>753</td>\n",
       "    </tr>\n",
       "    <tr>\n",
       "      <th>3</th>\n",
       "      <td>12737339981</td>\n",
       "      <td>j***z</td>\n",
       "      <td>真的垃圾啊，不到一个月，显示屏就出问题了</td>\n",
       "      <td>20</td>\n",
       "      <td>真的 垃圾 不到 一个月 显示屏 出 问题</td>\n",
       "      <td>2019-05-07 21:49:36</td>\n",
       "      <td>1</td>\n",
       "      <td>10</td>\n",
       "      <td>0</td>\n",
       "      <td>0</td>\n",
       "      <td>39</td>\n",
       "      <td>2019-05-07</td>\n",
       "      <td>2021-01-24</td>\n",
       "      <td>628</td>\n",
       "    </tr>\n",
       "    <tr>\n",
       "      <th>4</th>\n",
       "      <td>14050194816</td>\n",
       "      <td>心***福</td>\n",
       "      <td>测不注意测不准就这玩意还是算了吧，根本</td>\n",
       "      <td>19</td>\n",
       "      <td>测 注意 测 不准 玩意 算了吧 根本</td>\n",
       "      <td>2020-04-18 20:29:44</td>\n",
       "      <td>1</td>\n",
       "      <td>23</td>\n",
       "      <td>0</td>\n",
       "      <td>0</td>\n",
       "      <td>66</td>\n",
       "      <td>2020-04-18</td>\n",
       "      <td>2021-01-24</td>\n",
       "      <td>281</td>\n",
       "    </tr>\n",
       "  </tbody>\n",
       "</table>\n",
       "</div>"
      ],
      "text/plain": [
       "            ID NICKNAME                                            CONTENT  \\\n",
       "0  13872879901    j***5  机器刚到手，就发布降价信息！服了，气管接口粗糙，屏幕连个膜都没有！写的记忆14次，实际10次...   \n",
       "1  14916170593    海***行  你们这是@，知道么。用你们的血压计天天测都是120-130的，80-90的，要不是我去医院拿...   \n",
       "2  12329148322    布***咔                                       不准，比医院用的高了11   \n",
       "3  12737339981    j***z                               真的垃圾啊，不到一个月，显示屏就出问题了   \n",
       "4  14050194816    心***福                                测不注意测不准就这玩意还是算了吧，根本   \n",
       "\n",
       "   CONTENT_LENGTH                                        CONTENT_CUT  \\\n",
       "0              56  机器 刚 到手 发布 降价 信息 服 气管 接口 粗糙 屏幕 连个 膜 没有 写 记忆 14...   \n",
       "1              92  这是 @ 知道 血压计 天天 测都 120 - 130 80 - 90 医院 拿药 测 一下...   \n",
       "2              12                                        不准 医院 高 11    \n",
       "3              20                             真的 垃圾 不到 一个月 显示屏 出 问题    \n",
       "4              19                               测 注意 测 不准 玩意 算了吧 根本    \n",
       "\n",
       "         CREATIONTIME  SCORE  REPLYCOUNT  IMAGESTATUS  IMAGECOUNT  \\\n",
       "0 2020-03-04 18:21:47      1          14            1           2   \n",
       "1 2020-11-16 21:01:30      1          10            0           0   \n",
       "2 2019-01-02 14:39:18      1          17            1           1   \n",
       "3 2019-05-07 21:49:36      1          10            0           0   \n",
       "4 2020-04-18 20:29:44      1          23            0           0   \n",
       "\n",
       "   USEFULVOTECOUNT        date    date_now  timedelta  \n",
       "0               47  2020-03-04  2021-01-24        326  \n",
       "1               10  2020-11-16  2021-01-24         69  \n",
       "2               30  2019-01-02  2021-01-24        753  \n",
       "3               39  2019-05-07  2021-01-24        628  \n",
       "4               66  2020-04-18  2021-01-24        281  "
      ]
     },
     "execution_count": 4,
     "metadata": {},
     "output_type": "execute_result"
    }
   ],
   "source": [
    "dff.head()"
   ]
  },
  {
   "cell_type": "code",
   "execution_count": 5,
   "id": "postal-minority",
   "metadata": {
    "collapsed": true,
    "execution": {
     "iopub.execute_input": "2021-02-14T02:45:31.011854Z",
     "iopub.status.busy": "2021-02-14T02:45:31.011086Z",
     "iopub.status.idle": "2021-02-14T02:45:31.018247Z",
     "shell.execute_reply": "2021-02-14T02:45:31.017452Z",
     "shell.execute_reply.started": "2021-02-14T02:45:31.011086Z"
    },
    "jupyter": {
     "outputs_hidden": true
    }
   },
   "outputs": [
    {
     "data": {
      "text/plain": [
       "ID                         object\n",
       "NICKNAME                   object\n",
       "CONTENT                    object\n",
       "CONTENT_LENGTH              int64\n",
       "CONTENT_CUT                object\n",
       "CREATIONTIME       datetime64[ns]\n",
       "SCORE                       int64\n",
       "REPLYCOUNT                  int64\n",
       "IMAGESTATUS                 int64\n",
       "IMAGECOUNT                  int64\n",
       "USEFULVOTECOUNT             int64\n",
       "date                       object\n",
       "date_now                   object\n",
       "timedelta                   int64\n",
       "dtype: object"
      ]
     },
     "execution_count": 5,
     "metadata": {},
     "output_type": "execute_result"
    }
   ],
   "source": [
    "dff.dtypes"
   ]
  },
  {
   "cell_type": "code",
   "execution_count": 6,
   "id": "monetary-unemployment",
   "metadata": {
    "execution": {
     "iopub.execute_input": "2021-02-14T02:45:36.199890Z",
     "iopub.status.busy": "2021-02-14T02:45:36.199401Z",
     "iopub.status.idle": "2021-02-14T02:45:36.208106Z",
     "shell.execute_reply": "2021-02-14T02:45:36.207292Z",
     "shell.execute_reply.started": "2021-02-14T02:45:36.199890Z"
    }
   },
   "outputs": [],
   "source": [
    "dff2 = dff[['CONTENT_LENGTH','SCORE','REPLYCOUNT','IMAGECOUNT','timedelta','USEFULVOTECOUNT']].copy()"
   ]
  },
  {
   "cell_type": "code",
   "execution_count": 7,
   "id": "written-medium",
   "metadata": {
    "collapsed": true,
    "execution": {
     "iopub.execute_input": "2021-02-14T02:45:36.661166Z",
     "iopub.status.busy": "2021-02-14T02:45:36.661166Z",
     "iopub.status.idle": "2021-02-14T02:45:36.671115Z",
     "shell.execute_reply": "2021-02-14T02:45:36.670116Z",
     "shell.execute_reply.started": "2021-02-14T02:45:36.661166Z"
    },
    "jupyter": {
     "outputs_hidden": true
    }
   },
   "outputs": [
    {
     "data": {
      "text/html": [
       "<div>\n",
       "<style scoped>\n",
       "    .dataframe tbody tr th:only-of-type {\n",
       "        vertical-align: middle;\n",
       "    }\n",
       "\n",
       "    .dataframe tbody tr th {\n",
       "        vertical-align: top;\n",
       "    }\n",
       "\n",
       "    .dataframe thead th {\n",
       "        text-align: right;\n",
       "    }\n",
       "</style>\n",
       "<table border=\"1\" class=\"dataframe\">\n",
       "  <thead>\n",
       "    <tr style=\"text-align: right;\">\n",
       "      <th></th>\n",
       "      <th>CONTENT_LENGTH</th>\n",
       "      <th>SCORE</th>\n",
       "      <th>REPLYCOUNT</th>\n",
       "      <th>IMAGECOUNT</th>\n",
       "      <th>timedelta</th>\n",
       "      <th>USEFULVOTECOUNT</th>\n",
       "    </tr>\n",
       "  </thead>\n",
       "  <tbody>\n",
       "    <tr>\n",
       "      <th>0</th>\n",
       "      <td>56</td>\n",
       "      <td>1</td>\n",
       "      <td>14</td>\n",
       "      <td>2</td>\n",
       "      <td>326</td>\n",
       "      <td>47</td>\n",
       "    </tr>\n",
       "    <tr>\n",
       "      <th>1</th>\n",
       "      <td>92</td>\n",
       "      <td>1</td>\n",
       "      <td>10</td>\n",
       "      <td>0</td>\n",
       "      <td>69</td>\n",
       "      <td>10</td>\n",
       "    </tr>\n",
       "    <tr>\n",
       "      <th>2</th>\n",
       "      <td>12</td>\n",
       "      <td>1</td>\n",
       "      <td>17</td>\n",
       "      <td>1</td>\n",
       "      <td>753</td>\n",
       "      <td>30</td>\n",
       "    </tr>\n",
       "    <tr>\n",
       "      <th>3</th>\n",
       "      <td>20</td>\n",
       "      <td>1</td>\n",
       "      <td>10</td>\n",
       "      <td>0</td>\n",
       "      <td>628</td>\n",
       "      <td>39</td>\n",
       "    </tr>\n",
       "    <tr>\n",
       "      <th>4</th>\n",
       "      <td>19</td>\n",
       "      <td>1</td>\n",
       "      <td>23</td>\n",
       "      <td>0</td>\n",
       "      <td>281</td>\n",
       "      <td>66</td>\n",
       "    </tr>\n",
       "    <tr>\n",
       "      <th>...</th>\n",
       "      <td>...</td>\n",
       "      <td>...</td>\n",
       "      <td>...</td>\n",
       "      <td>...</td>\n",
       "      <td>...</td>\n",
       "      <td>...</td>\n",
       "    </tr>\n",
       "    <tr>\n",
       "      <th>15551</th>\n",
       "      <td>15</td>\n",
       "      <td>5</td>\n",
       "      <td>0</td>\n",
       "      <td>1</td>\n",
       "      <td>21</td>\n",
       "      <td>0</td>\n",
       "    </tr>\n",
       "    <tr>\n",
       "      <th>15552</th>\n",
       "      <td>24</td>\n",
       "      <td>5</td>\n",
       "      <td>0</td>\n",
       "      <td>1</td>\n",
       "      <td>21</td>\n",
       "      <td>0</td>\n",
       "    </tr>\n",
       "    <tr>\n",
       "      <th>15553</th>\n",
       "      <td>12</td>\n",
       "      <td>5</td>\n",
       "      <td>0</td>\n",
       "      <td>1</td>\n",
       "      <td>21</td>\n",
       "      <td>0</td>\n",
       "    </tr>\n",
       "    <tr>\n",
       "      <th>15554</th>\n",
       "      <td>18</td>\n",
       "      <td>5</td>\n",
       "      <td>0</td>\n",
       "      <td>1</td>\n",
       "      <td>21</td>\n",
       "      <td>0</td>\n",
       "    </tr>\n",
       "    <tr>\n",
       "      <th>15555</th>\n",
       "      <td>15</td>\n",
       "      <td>5</td>\n",
       "      <td>0</td>\n",
       "      <td>1</td>\n",
       "      <td>22</td>\n",
       "      <td>0</td>\n",
       "    </tr>\n",
       "  </tbody>\n",
       "</table>\n",
       "<p>15556 rows × 6 columns</p>\n",
       "</div>"
      ],
      "text/plain": [
       "       CONTENT_LENGTH  SCORE  REPLYCOUNT  IMAGECOUNT  timedelta  \\\n",
       "0                  56      1          14           2        326   \n",
       "1                  92      1          10           0         69   \n",
       "2                  12      1          17           1        753   \n",
       "3                  20      1          10           0        628   \n",
       "4                  19      1          23           0        281   \n",
       "...               ...    ...         ...         ...        ...   \n",
       "15551              15      5           0           1         21   \n",
       "15552              24      5           0           1         21   \n",
       "15553              12      5           0           1         21   \n",
       "15554              18      5           0           1         21   \n",
       "15555              15      5           0           1         22   \n",
       "\n",
       "       USEFULVOTECOUNT  \n",
       "0                   47  \n",
       "1                   10  \n",
       "2                   30  \n",
       "3                   39  \n",
       "4                   66  \n",
       "...                ...  \n",
       "15551                0  \n",
       "15552                0  \n",
       "15553                0  \n",
       "15554                0  \n",
       "15555                0  \n",
       "\n",
       "[15556 rows x 6 columns]"
      ]
     },
     "execution_count": 7,
     "metadata": {},
     "output_type": "execute_result"
    }
   ],
   "source": [
    "dff2"
   ]
  },
  {
   "cell_type": "code",
   "execution_count": 9,
   "id": "tired-curtis",
   "metadata": {
    "execution": {
     "iopub.execute_input": "2021-02-14T02:47:29.919163Z",
     "iopub.status.busy": "2021-02-14T02:47:29.919163Z",
     "iopub.status.idle": "2021-02-14T02:47:29.923152Z",
     "shell.execute_reply": "2021-02-14T02:47:29.923152Z",
     "shell.execute_reply.started": "2021-02-14T02:47:29.919163Z"
    }
   },
   "outputs": [],
   "source": [
    "import numpy as np\n",
    "import pandas as pd\n",
    "from sklearn import svm\n",
    "from sklearn.model_selection import train_test_split\n",
    "from sklearn.model_selection import GridSearchCV\n",
    "from sklearn.preprocessing import StandardScaler"
   ]
  },
  {
   "cell_type": "code",
   "execution_count": 17,
   "id": "sharp-voltage",
   "metadata": {
    "execution": {
     "iopub.execute_input": "2021-02-14T03:25:32.706858Z",
     "iopub.status.busy": "2021-02-14T03:25:32.706858Z",
     "iopub.status.idle": "2021-02-14T03:41:04.352023Z",
     "shell.execute_reply": "2021-02-14T03:41:04.352023Z",
     "shell.execute_reply.started": "2021-02-14T03:25:32.706858Z"
    }
   },
   "outputs": [
    {
     "name": "stderr",
     "output_type": "stream",
     "text": [
      "D:\\Softwares Installed\\Anaconda\\anaconda\\lib\\site-packages\\sklearn\\model_selection\\_split.py:672: UserWarning: The least populated class in y has only 1 members, which is less than n_splits=3.\n",
      "  % (min_groups, self.n_splits)), UserWarning)\n"
     ]
    },
    {
     "name": "stdout",
     "output_type": "stream",
     "text": [
      "The best parameters are {'C': 10, 'gamma': 0.01} with a score of 0.90017\n"
     ]
    }
   ],
   "source": [
    "all_x = dff2[['CONTENT_LENGTH','SCORE','REPLYCOUNT','IMAGECOUNT','timedelta']]\n",
    "all_y = dff2['USEFULVOTECOUNT']\n",
    "\n",
    "x_train,x_test,y_train,y_test = train_test_split(all_x,all_y,test_size=0.3,random_state=0)\n",
    "\n",
    "x_train = StandardScaler().fit_transform(x_train)\n",
    "\n",
    "y_train = np.array(y_train).ravel()\n",
    "\n",
    "grid = GridSearchCV(svm.SVC(), param_grid={\"C\":[0.01, 0.1, 1, 5, 10, 100], \"gamma\": [100, 10, 1, 0.1, 0.01]}, cv=3)\n",
    "grid.fit(x_train,y_train)\n",
    "print(\"The best parameters are %s with a score of %0.5f\" % (grid.best_params_, grid.best_score_))\n",
    "\n",
    "# svm_model = svm.SVC(C=1,kernel='rbf',gamma=2)\n",
    "# model_res = svm_model.fit(x_train,y_train)\n",
    "\n",
    "#计算svc分类器的准确率\n",
    "#print(\"训练集：\",model_res.score(x_train,y_train))\n",
    "#print(\"测试集：\",model_res.score(x_test,y_test))\n",
    "\n",
    "winsound.Beep(300,1000)"
   ]
  },
  {
   "cell_type": "code",
   "execution_count": 17,
   "id": "talented-shopping",
   "metadata": {
    "execution": {
     "iopub.execute_input": "2021-02-03T03:21:12.451579Z",
     "iopub.status.busy": "2021-02-03T03:21:12.451579Z",
     "iopub.status.idle": "2021-02-03T03:21:50.408513Z",
     "shell.execute_reply": "2021-02-03T03:21:50.407999Z",
     "shell.execute_reply.started": "2021-02-03T03:21:12.451579Z"
    }
   },
   "outputs": [
    {
     "name": "stdout",
     "output_type": "stream",
     "text": [
      "训练集： 0.9423271191110295\n",
      "测试集： 0.8952217698735805\n"
     ]
    }
   ],
   "source": [
    "svm_model2 = svm.SVC(C=2,kernel='rbf',gamma=10)\n",
    "svm_model2.fit(x_train,y_train)\n",
    "print(\"训练集：\",svm_model2.score(x_train,y_train))\n",
    "print(\"测试集：\",svm_model2.score(x_test,y_test))\n",
    "winsound.Beep(300,1000)"
   ]
  },
  {
   "cell_type": "code",
   "execution_count": 19,
   "id": "touched-soldier",
   "metadata": {
    "execution": {
     "iopub.execute_input": "2021-02-14T03:46:18.607196Z",
     "iopub.status.busy": "2021-02-14T03:46:18.607196Z",
     "iopub.status.idle": "2021-02-14T03:46:33.620966Z",
     "shell.execute_reply": "2021-02-14T03:46:33.620966Z",
     "shell.execute_reply.started": "2021-02-14T03:46:18.607196Z"
    }
   },
   "outputs": [
    {
     "name": "stdout",
     "output_type": "stream",
     "text": [
      "训练集： 0.928643585269538\n",
      "测试集： 0.8952217698735805\n"
     ]
    }
   ],
   "source": [
    "svm_model2 = svm.SVC(C=10,kernel='rbf',gamma=1)\n",
    "svm_model2.fit(x_train,y_train)\n",
    "print(\"训练集：\",svm_model2.score(x_train,y_train))\n",
    "print(\"测试集：\",svm_model2.score(x_test,y_test))\n",
    "winsound.Beep(300,1000)"
   ]
  },
  {
   "cell_type": "code",
   "execution_count": 15,
   "id": "comparative-membrane",
   "metadata": {
    "execution": {
     "iopub.execute_input": "2021-02-14T03:19:12.052732Z",
     "iopub.status.busy": "2021-02-14T03:19:12.052732Z",
     "iopub.status.idle": "2021-02-14T03:19:49.340623Z",
     "shell.execute_reply": "2021-02-14T03:19:49.340100Z",
     "shell.execute_reply.started": "2021-02-14T03:19:12.052732Z"
    }
   },
   "outputs": [
    {
     "name": "stdout",
     "output_type": "stream",
     "text": [
      "训练集： 0.9489392965377904\n",
      "测试集： 0.8952217698735805\n"
     ]
    }
   ],
   "source": [
    "svm_model2 = svm.SVC(C=5,kernel='rbf',gamma=10)\n",
    "svm_model2.fit(x_train,y_train)\n",
    "print(\"训练集：\",svm_model2.score(x_train,y_train))\n",
    "print(\"测试集：\",svm_model2.score(x_test,y_test))\n",
    "winsound.Beep(300,1000)"
   ]
  },
  {
   "cell_type": "code",
   "execution_count": 16,
   "id": "owned-windows",
   "metadata": {
    "execution": {
     "iopub.execute_input": "2021-02-14T03:21:12.529061Z",
     "iopub.status.busy": "2021-02-14T03:21:12.529061Z",
     "iopub.status.idle": "2021-02-14T03:21:48.258135Z",
     "shell.execute_reply": "2021-02-14T03:21:48.257610Z",
     "shell.execute_reply.started": "2021-02-14T03:21:12.529061Z"
    }
   },
   "outputs": [
    {
     "name": "stdout",
     "output_type": "stream",
     "text": [
      "训练集： 0.9535310864174855\n",
      "测试集： 0.8952217698735805\n"
     ]
    }
   ],
   "source": [
    "svm_model2 = svm.SVC(C=10,kernel='rbf',gamma=10)\n",
    "svm_model2.fit(x_train,y_train)\n",
    "print(\"训练集：\",svm_model2.score(x_train,y_train))\n",
    "print(\"测试集：\",svm_model2.score(x_test,y_test))\n",
    "winsound.Beep(300,1000)"
   ]
  },
  {
   "cell_type": "code",
   "execution_count": 33,
   "id": "pending-galaxy",
   "metadata": {
    "execution": {
     "iopub.execute_input": "2021-02-03T03:43:31.457146Z",
     "iopub.status.busy": "2021-02-03T03:43:31.457146Z",
     "iopub.status.idle": "2021-02-03T03:43:37.786984Z",
     "shell.execute_reply": "2021-02-03T03:43:37.786247Z",
     "shell.execute_reply.started": "2021-02-03T03:43:31.457146Z"
    }
   },
   "outputs": [],
   "source": [
    "all_y_predict=svm_model2.predict(x_train)"
   ]
  },
  {
   "cell_type": "code",
   "execution_count": 34,
   "id": "mental-naples",
   "metadata": {
    "collapsed": true,
    "execution": {
     "iopub.execute_input": "2021-02-03T03:43:38.235364Z",
     "iopub.status.busy": "2021-02-03T03:43:38.235364Z",
     "iopub.status.idle": "2021-02-03T03:43:38.247730Z",
     "shell.execute_reply": "2021-02-03T03:43:38.247368Z",
     "shell.execute_reply.started": "2021-02-03T03:43:38.235364Z"
    },
    "jupyter": {
     "outputs_hidden": true
    }
   },
   "outputs": [
    {
     "data": {
      "text/plain": [
       "all_y_predict\n",
       "0                10382\n",
       "1                  183\n",
       "2                   76\n",
       "3                   49\n",
       "4                   24\n",
       "                 ...  \n",
       "33                   1\n",
       "32                   1\n",
       "27                   1\n",
       "26                   1\n",
       "428                  1\n",
       "Length: 66, dtype: int64"
      ]
     },
     "execution_count": 34,
     "metadata": {},
     "output_type": "execute_result"
    }
   ],
   "source": [
    "a = list(all_y_predict)\n",
    "df = pd.DataFrame(a, columns=['all_y_predict']) \n",
    "df.value_counts()"
   ]
  },
  {
   "cell_type": "code",
   "execution_count": 37,
   "id": "solved-wisconsin",
   "metadata": {
    "collapsed": true,
    "execution": {
     "iopub.execute_input": "2021-02-03T06:45:35.995161Z",
     "iopub.status.busy": "2021-02-03T06:45:35.994163Z",
     "iopub.status.idle": "2021-02-03T06:45:36.000147Z",
     "shell.execute_reply": "2021-02-03T06:45:36.000147Z",
     "shell.execute_reply.started": "2021-02-03T06:45:35.995161Z"
    },
    "jupyter": {
     "outputs_hidden": true
    }
   },
   "outputs": [
    {
     "data": {
      "text/plain": [
       "0        2020-03-04\n",
       "1        2020-11-16\n",
       "2        2019-01-02\n",
       "3        2019-05-07\n",
       "4        2020-04-18\n",
       "            ...    \n",
       "15551    2021-01-03\n",
       "15552    2021-01-03\n",
       "15553    2021-01-03\n",
       "15554    2021-01-03\n",
       "15555    2021-01-02\n",
       "Name: date, Length: 15556, dtype: object"
      ]
     },
     "execution_count": 37,
     "metadata": {},
     "output_type": "execute_result"
    }
   ],
   "source": [
    "dff.date"
   ]
  },
  {
   "cell_type": "code",
   "execution_count": 50,
   "id": "ranking-portsmouth",
   "metadata": {
    "execution": {
     "iopub.execute_input": "2021-02-03T06:56:05.839130Z",
     "iopub.status.busy": "2021-02-03T06:56:05.839130Z",
     "iopub.status.idle": "2021-02-03T06:56:05.900965Z",
     "shell.execute_reply": "2021-02-03T06:56:05.900965Z",
     "shell.execute_reply.started": "2021-02-03T06:56:05.839130Z"
    }
   },
   "outputs": [
    {
     "data": {
      "text/plain": [
       "3223"
      ]
     },
     "execution_count": 50,
     "metadata": {},
     "output_type": "execute_result"
    }
   ],
   "source": [
    "len(dff[(dff['CREATIONTIME'].apply(lambda x:x.year)<2020) & (dff['USEFULVOTECOUNT']==0)])"
   ]
  }
 ],
 "metadata": {
  "kernelspec": {
   "display_name": "Python 3",
   "language": "python",
   "name": "python3"
  },
  "language_info": {
   "codemirror_mode": {
    "name": "ipython",
    "version": 3
   },
   "file_extension": ".py",
   "mimetype": "text/x-python",
   "name": "python",
   "nbconvert_exporter": "python",
   "pygments_lexer": "ipython3",
   "version": "3.7.6"
  }
 },
 "nbformat": 4,
 "nbformat_minor": 5
}
