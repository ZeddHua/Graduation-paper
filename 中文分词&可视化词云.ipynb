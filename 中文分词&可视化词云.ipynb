{
 "cells": [
  {
   "cell_type": "code",
   "execution_count": 37,
   "metadata": {},
   "outputs": [],
   "source": [
    "with open(r'C:\\Users\\Zedd\\Desktop\\NLP practice\\爬到的数据.txt',encoding='utf-8') as f:\n",
    "    text = f.read()"
   ]
  },
  {
   "cell_type": "code",
   "execution_count": 43,
   "metadata": {},
   "outputs": [
    {
     "data": {
      "text/plain": [
       "<generator object Tokenizer.cut at 0x000001E8B518E8C8>"
      ]
     },
     "execution_count": 43,
     "metadata": {},
     "output_type": "execute_result"
    }
   ],
   "source": [
    "jieba.cut(text)"
   ]
  },
  {
   "cell_type": "code",
   "execution_count": 38,
   "metadata": {},
   "outputs": [],
   "source": [
    "text = text.replace('\\n',' ')"
   ]
  },
  {
   "cell_type": "code",
   "execution_count": 41,
   "metadata": {},
   "outputs": [
    {
     "data": {
      "text/plain": [
       "str"
      ]
     },
     "execution_count": 41,
     "metadata": {},
     "output_type": "execute_result"
    }
   ],
   "source": [
    "import jieba\n",
    "text_jb = ' '.join(jieba.cut(text))\n",
    "type(jieba.cut(text))"
   ]
  },
  {
   "cell_type": "markdown",
   "metadata": {},
   "source": [
    "**<font size=4 color=blue>在wordcloud里设置stopwords参数感觉不太方便，最好在语料清洗的时候去掉停用词</font>**"
   ]
  },
  {
   "cell_type": "markdown",
   "metadata": {},
   "source": [
    "---"
   ]
  },
  {
   "cell_type": "markdown",
   "metadata": {},
   "source": [
    "**<font size=4 color=blue>京东评论爬取,list存储</font>**"
   ]
  },
  {
   "cell_type": "code",
   "execution_count": 1,
   "metadata": {},
   "outputs": [],
   "source": [
    "import requests\n",
    "import json\n",
    "import time\n",
    "import pymysql\n",
    "import pandas as pd"
   ]
  },
  {
   "cell_type": "code",
   "execution_count": 2,
   "metadata": {
    "collapsed": true,
    "jupyter": {
     "outputs_hidden": true
    }
   },
   "outputs": [
    {
     "name": "stdout",
     "output_type": "stream",
     "text": [
      "第0页爬取成功\n",
      "第1页爬取成功\n",
      "第2页爬取成功\n",
      "第3页爬取成功\n",
      "第4页爬取成功\n",
      "第5页爬取成功\n",
      "第6页爬取成功\n",
      "第7页爬取成功\n",
      "第8页爬取成功\n",
      "第9页爬取成功\n",
      "第10页爬取成功\n",
      "第11页爬取成功\n",
      "第12页爬取成功\n",
      "第13页爬取成功\n",
      "第14页爬取成功\n",
      "第15页爬取成功\n",
      "第16页爬取成功\n",
      "第17页爬取成功\n",
      "第18页爬取成功\n",
      "第19页爬取成功\n",
      "第20页爬取成功\n",
      "第21页爬取成功\n",
      "第22页爬取成功\n",
      "第23页爬取成功\n",
      "第24页爬取成功\n",
      "第25页爬取成功\n",
      "第26页爬取成功\n",
      "第27页爬取成功\n",
      "第28页爬取成功\n",
      "第29页爬取成功\n",
      "第30页爬取成功\n",
      "第31页爬取成功\n",
      "第32页爬取成功\n",
      "第33页爬取成功\n",
      "第34页爬取成功\n",
      "第35页爬取成功\n",
      "第36页爬取成功\n",
      "第37页爬取成功\n",
      "第38页爬取成功\n",
      "第39页爬取成功\n",
      "第40页爬取成功\n",
      "第41页爬取成功\n",
      "第42页爬取成功\n",
      "第43页爬取成功\n",
      "第44页爬取成功\n",
      "第45页爬取成功\n",
      "第46页爬取成功\n",
      "第47页爬取成功\n",
      "第48页爬取成功\n",
      "第49页爬取成功\n",
      "第50页爬取成功\n",
      "第51页爬取成功\n",
      "第52页爬取成功\n",
      "第53页爬取成功\n",
      "第54页爬取成功\n",
      "第55页爬取成功\n",
      "第56页爬取成功\n",
      "第57页爬取成功\n",
      "第58页爬取成功\n",
      "第59页爬取成功\n",
      "第60页爬取成功\n",
      "第61页爬取成功\n",
      "第62页爬取成功\n",
      "第63页爬取成功\n",
      "第64页爬取成功\n",
      "第65页爬取成功\n",
      "第66页爬取成功\n",
      "第67页爬取成功\n",
      "第68页爬取成功\n",
      "第69页爬取成功\n",
      "第70页爬取成功\n",
      "第71页爬取成功\n",
      "第72页爬取成功\n",
      "第73页爬取成功\n",
      "第74页爬取成功\n",
      "第75页爬取成功\n",
      "第76页爬取成功\n",
      "第77页爬取成功\n",
      "第78页爬取成功\n",
      "第79页爬取成功\n",
      "第80页爬取成功\n",
      "第81页爬取成功\n",
      "第82页爬取成功\n",
      "第83页爬取成功\n",
      "第84页爬取成功\n",
      "第85页爬取成功\n",
      "第86页爬取成功\n",
      "第87页爬取成功\n",
      "第88页爬取成功\n",
      "第89页爬取成功\n",
      "第90页爬取成功\n",
      "第91页爬取成功\n",
      "第92页爬取成功\n",
      "第93页爬取成功\n",
      "第94页爬取成功\n",
      "第95页爬取成功\n",
      "第96页爬取成功\n",
      "第97页爬取成功\n",
      "第98页爬取成功\n",
      "第99页爬取成功\n",
      "京东评论数据txt文件存储成功\n"
     ]
    }
   ],
   "source": [
    "#声明列表，以列表形式存储爬取到的数据\n",
    "a = []\n",
    "\n",
    "for page in range(0,100):   #循环爬取前{?}页\n",
    "    url = 'https://club.jd.com/comment/productPageComments.action?callback=fetchJSON_comment98&productId=100011977044&score=0&sortType=5&page={}&pageSize=10&isShadowSku=0&fold=1'.format(page) \n",
    "    header = {\"User-Agent\": \"Mozilla/5.0 (Windows NT 10.0; Win64; x64) AppleWebKit/537.36 (KHTML, like Gecko) Chrome/74.0.3729.131 Safari/537.36\"}\n",
    "    req = requests.get(url, headers=header)\n",
    "    json_1 = req.text   #此处京东评论是放在json里的，其他情况是html较多\n",
    "    py = json.loads(json_1.lstrip('fetchJSON_comment98vv12345(').rstrip(');'))   #解析json文件，将json文件转换为python字典，并将源码字典前面一大串不能解析的字符串去掉\n",
    "    for i in py['comments']:   #py['comments']格式为列表list，里面是一个个字典dic，这里每一个i都是一个字典，i['id']取出的即是dic中key=‘id’对应的value，（列表中含有字典，用循环读取字典中的value）\n",
    "        a.append(i['content'])   #将字段信息存储再list中\n",
    "    print('第{}页爬取成功'.format(page))\n",
    "    time.sleep(1)   #设置1s的延时访问\n",
    "    \n",
    "with open(r'C:\\Users\\Zedd\\Desktop\\NLP practice\\jingdong data.txt', 'w', encoding='utf-8') as file:\n",
    "    for i in a:\n",
    "        file.write(i+'\\n')\n",
    "print('京东评论数据txt文件存储成功')"
   ]
  },
  {
   "cell_type": "markdown",
   "metadata": {},
   "source": [
    "---"
   ]
  },
  {
   "cell_type": "markdown",
   "metadata": {},
   "source": [
    "**<font size=4 color=blue>中文分词，去停用词，tf-idf统计学算法提取关键词，词云展示</font>**"
   ]
  },
  {
   "cell_type": "code",
   "execution_count": 3,
   "metadata": {},
   "outputs": [],
   "source": [
    "import pandas as pd\n",
    "import numpy as np\n",
    "import wordcloud\n",
    "from wordcloud import WordCloud\n",
    "import jieba\n",
    "import jieba.analyse as anls\n",
    "from imageio import imread\n",
    "import matplotlib.pyplot as plt"
   ]
  },
  {
   "cell_type": "code",
   "execution_count": 5,
   "metadata": {},
   "outputs": [
    {
     "name": "stderr",
     "output_type": "stream",
     "text": [
      "Building prefix dict from the default dictionary ...\n",
      "Loading model from cache C:\\Users\\Zedd\\AppData\\Local\\Temp\\jieba.cache\n",
      "Loading model cost 0.638 seconds.\n",
      "Prefix dict has been built successfully.\n"
     ]
    },
    {
     "name": "stdout",
     "output_type": "stream",
     "text": [
      "Populating the interactive namespace from numpy and matplotlib\n"
     ]
    },
    {
     "name": "stderr",
     "output_type": "stream",
     "text": [
      "D:\\Softwares Installed\\Anaconda\\anaconda\\lib\\site-packages\\IPython\\core\\magics\\pylab.py:160: UserWarning: pylab import has clobbered these variables: ['imread']\n",
      "`%matplotlib` prevents importing * from pylab and numpy\n",
      "  \"\\n`%matplotlib` prevents importing * from pylab and numpy\"\n"
     ]
    },
    {
     "data": {
      "image/png": "[encoded data removed]",
      "text/plain": [
       "<Figure size 432x288 with 1 Axes>"
      ]
     },
     "metadata": {
      "needs_background": "light"
     },
     "output_type": "display_data"
    }
   ],
   "source": [
    "#分词\n",
    "#sep_text_list = []\n",
    "def separate(sentence):   #输入为整段文本，输出为str，后传入wordcloud\n",
    "    sep_text = jieba.cut(sentence.strip())   #去除文本首尾空格\n",
    "    stopword = stopwords()\n",
    "    sep_text_str = ''\n",
    "    for word in sep_text:\n",
    "        if word not in stopword:\n",
    "            #sep_text_list.append(word)    sep_text_str = ' '.join(sep_text_list)  list直接转化为str\n",
    "            sep_text_str += word\n",
    "            sep_text_str += ' '\n",
    "    return sep_text_str\n",
    "\n",
    "#加载停用词表\n",
    "def stopwords():\n",
    "    stopword = [line.strip() for line in open(r'C:\\Users\\Zedd\\Desktop\\stopwords-master\\cn_stopwords.txt', encoding='UTF-8').readlines()]  # list类型\n",
    "    return stopword\n",
    "\n",
    "#基于tf-idf提取关键词  \n",
    "def tf_idf_extract(sentence):\n",
    "    keywords = []\n",
    "    tfidf = anls.extract_tags(sentence, topK=10, withWeight=False, allowPOS=('n'))   #allowPOS为设置指定词性 'n'为noun\n",
    "    for word in tfidf:\n",
    "        keywords.append(word)\n",
    "    keywords = ' '.join(keywords)\n",
    "    return keywords\n",
    "    \n",
    "#画词云\n",
    "def show_and_save_wordcloud(strr):   #wordcloud函数的输入为【分词后用空格join的str】\n",
    "    mk = imread(r'C:\\Users\\Zedd\\Desktop\\NLP practice\\circle.jpg')\n",
    "    fontpath = r\"D:\\Softwares Installed\\Anaconda\\anaconda\\Lib\\site-packages\\wordcloud\\SimHei.ttf\"\n",
    "    wc = WordCloud(font_path = fontpath,background_color = 'white',width=3000,height=2000,mask = mk).generate(strr)\n",
    "    %pylab inline\n",
    "    plt.imshow(wc, interpolation='bilinear')\n",
    "    plt.axis(\"off\")\n",
    "    wc.to_file(r'C:\\Users\\Zedd\\Desktop\\NLP practice\\wordcloud.jpg')\n",
    "    \n",
    "#main()\n",
    "def main():\n",
    "    with open(r'C:\\Users\\Zedd\\Desktop\\NLP practice\\jingdong data.txt',encoding='utf-8') as f:\n",
    "        text = f.read()\n",
    "    text = text.replace('\\n',' ')\n",
    "    sep_str = separate(text)\n",
    "    tfidf_str = tf_idf_extract(sep_str)\n",
    "    show_and_save_wordcloud(tfidf_str)\n",
    "\n",
    "#执行\n",
    "main()"
   ]
  },
  {
   "cell_type": "code",
   "execution_count": 1,
   "metadata": {},
   "outputs": [
    {
     "data": {
      "text/plain": [
       "'ejk'"
      ]
     },
     "execution_count": 1,
     "metadata": {},
     "output_type": "execute_result"
    }
   ],
   "source": [
    "a = '1bc ejk kjn'\n",
    "a.split(' ')[1]"
   ]
  },
  {
   "cell_type": "markdown",
   "metadata": {},
   "source": [
    "**<font size=4 color=blue>用word2vector深度学习模型训练获得词向量</font>**"
   ]
  },
  {
   "cell_type": "code",
   "execution_count": null,
   "metadata": {},
   "outputs": [],
   "source": [
    "from gensim import word2vec\n",
    "import logging\n",
    "\n",
    "def train_w2v():   #训练word2vector\n",
    "    logging.basicConfig(format = '%(asctime)s : %(levelname)s : %(message)s', level = logging.INFO)   #配置日志文件\n",
    "    sentence = word2vec.Text8Corpus(r'')   #加载语料库\n",
    "    model = word2vec.Word2Vec(sentence, sg=1, size=100, window=5, min_count=1, negative=3, sample=0.001, hs=1, workers=40)   #训练skip-gram(sg=1)模型\n",
    "    # model.save(r'')   #保存模型\n",
    "    # model = word2vec.Word2Vec.load(r'')   # 对应的加载方式\n",
    "    \n",
    "def get_w2v(wordlist):   #获取词向量\n",
    "    # model = word2vec.Word2Vec.load(r'') 加载模型\n",
    "    vecs =[]\n",
    "    for word in wordlist:\n",
    "        word = word.replace('\\n','')\n",
    "        vecs.append(model[word])\n",
    "    return vecs"
   ]
  },
  {
   "cell_type": "markdown",
   "metadata": {},
   "source": [
    "word2vec.Word2Vec()\n",
    "- sg=1是skip—gram算法，对低频词敏感，默认sg=0为CBOW算法\n",
    "- size是神经网络层数（词向量维度），值太大则会耗内存并使算法计算变慢，一般值取为100到200之间。\n",
    "- window是句子中当前词与目标词之间的最大距离，3表示在目标词前看3-b个词，后面看b个词（b在0-3之间随机）\n",
    "- min_count是对词进行过滤，频率小于min-count的单词则会被忽视，默认值为5。\n",
    "- negative和sample可根据训练结果进行微调，sample表示更高频率的词被随机下采样到所设置的阈值，默认值为1e-3,\n",
    "- negative: 如果>0,则会采用negativesamping，用于设置多少个noise words\n",
    "- hs=1表示层级softmax将会被使用，默认hs=0且negative不为0，则负采样将会被选择使用。\n",
    "- workers是线程数，此参数只有在安装了Cpython后才有效，否则只能使用单核"
   ]
  },
  {
   "cell_type": "markdown",
   "metadata": {},
   "source": [
    "**<font size=4 color=blue>用snownlp进行情感分析（朴素贝叶斯）</font>**"
   ]
  },
  {
   "cell_type": "code",
   "execution_count": 2,
   "metadata": {},
   "outputs": [],
   "source": [
    "from snownlp import SnowNLP"
   ]
  },
  {
   "cell_type": "code",
   "execution_count": 9,
   "metadata": {},
   "outputs": [],
   "source": [
    "text = '昨天刚上手，先玩一段再来评论'\n",
    "s = SnowNLP(text)"
   ]
  },
  {
   "cell_type": "code",
   "execution_count": 11,
   "metadata": {},
   "outputs": [
    {
     "data": {
      "text/plain": [
       "float"
      ]
     },
     "execution_count": 11,
     "metadata": {},
     "output_type": "execute_result"
    }
   ],
   "source": [
    "type(s.sentiments)"
   ]
  },
  {
   "cell_type": "code",
   "execution_count": 22,
   "metadata": {},
   "outputs": [
    {
     "data": {
      "text/html": [
       "<div>\n",
       "<style scoped>\n",
       "    .dataframe tbody tr th:only-of-type {\n",
       "        vertical-align: middle;\n",
       "    }\n",
       "\n",
       "    .dataframe tbody tr th {\n",
       "        vertical-align: top;\n",
       "    }\n",
       "\n",
       "    .dataframe thead th {\n",
       "        text-align: right;\n",
       "    }\n",
       "</style>\n",
       "<table border=\"1\" class=\"dataframe\">\n",
       "  <thead>\n",
       "    <tr style=\"text-align: right;\">\n",
       "      <th></th>\n",
       "      <th>0</th>\n",
       "    </tr>\n",
       "  </thead>\n",
       "  <tbody>\n",
       "    <tr>\n",
       "      <th>0</th>\n",
       "      <td>做工非常精细，用料考究，关键还与时俱进地用了usb-c的接口，充电和传输文件就方便多了，屏幕...</td>\n",
       "    </tr>\n",
       "    <tr>\n",
       "      <th>1</th>\n",
       "      <td>外观材质：手感细腻，铝感明显，还是需要加个套，防滑安全。</td>\n",
       "    </tr>\n",
       "    <tr>\n",
       "      <th>2</th>\n",
       "      <td>屏幕效果：屏幕分辨率不错，从ipad mini3来的，刚觉瞬间秒杀，看电视办公都不错，11寸...</td>\n",
       "    </tr>\n",
       "    <tr>\n",
       "      <th>3</th>\n",
       "      <td>运行速度：最快ipad，系统流畅，真香，用个3-4年没问题。</td>\n",
       "    </tr>\n",
       "    <tr>\n",
       "      <th>4</th>\n",
       "      <td>轻薄程度：全面屏，超薄，最好平板</td>\n",
       "    </tr>\n",
       "  </tbody>\n",
       "</table>\n",
       "</div>"
      ],
      "text/plain": [
       "                                                   0\n",
       "0  做工非常精细，用料考究，关键还与时俱进地用了usb-c的接口，充电和传输文件就方便多了，屏幕...\n",
       "1                       外观材质：手感细腻，铝感明显，还是需要加个套，防滑安全。\n",
       "2  屏幕效果：屏幕分辨率不错，从ipad mini3来的，刚觉瞬间秒杀，看电视办公都不错，11寸...\n",
       "3                     运行速度：最快ipad，系统流畅，真香，用个3-4年没问题。\n",
       "4                                   轻薄程度：全面屏，超薄，最好平板"
      ]
     },
     "execution_count": 22,
     "metadata": {},
     "output_type": "execute_result"
    }
   ],
   "source": [
    "import pandas as pd\n",
    "text = pd.read_csv(r'C:\\Users\\Zedd\\Desktop\\NLP practice\\jingdong data.txt', header=None, sep='\\t')\n",
    "text.head()"
   ]
  },
  {
   "cell_type": "code",
   "execution_count": 23,
   "metadata": {},
   "outputs": [
    {
     "data": {
      "text/html": [
       "<div>\n",
       "<style scoped>\n",
       "    .dataframe tbody tr th:only-of-type {\n",
       "        vertical-align: middle;\n",
       "    }\n",
       "\n",
       "    .dataframe tbody tr th {\n",
       "        vertical-align: top;\n",
       "    }\n",
       "\n",
       "    .dataframe thead th {\n",
       "        text-align: right;\n",
       "    }\n",
       "</style>\n",
       "<table border=\"1\" class=\"dataframe\">\n",
       "  <thead>\n",
       "    <tr style=\"text-align: right;\">\n",
       "      <th></th>\n",
       "      <th>comment</th>\n",
       "    </tr>\n",
       "  </thead>\n",
       "  <tbody>\n",
       "    <tr>\n",
       "      <th>0</th>\n",
       "      <td>做工非常精细，用料考究，关键还与时俱进地用了usb-c的接口，充电和传输文件就方便多了，屏幕...</td>\n",
       "    </tr>\n",
       "    <tr>\n",
       "      <th>1</th>\n",
       "      <td>外观材质：手感细腻，铝感明显，还是需要加个套，防滑安全。</td>\n",
       "    </tr>\n",
       "    <tr>\n",
       "      <th>2</th>\n",
       "      <td>屏幕效果：屏幕分辨率不错，从ipad mini3来的，刚觉瞬间秒杀，看电视办公都不错，11寸...</td>\n",
       "    </tr>\n",
       "    <tr>\n",
       "      <th>3</th>\n",
       "      <td>运行速度：最快ipad，系统流畅，真香，用个3-4年没问题。</td>\n",
       "    </tr>\n",
       "    <tr>\n",
       "      <th>4</th>\n",
       "      <td>轻薄程度：全面屏，超薄，最好平板</td>\n",
       "    </tr>\n",
       "  </tbody>\n",
       "</table>\n",
       "</div>"
      ],
      "text/plain": [
       "                                             comment\n",
       "0  做工非常精细，用料考究，关键还与时俱进地用了usb-c的接口，充电和传输文件就方便多了，屏幕...\n",
       "1                       外观材质：手感细腻，铝感明显，还是需要加个套，防滑安全。\n",
       "2  屏幕效果：屏幕分辨率不错，从ipad mini3来的，刚觉瞬间秒杀，看电视办公都不错，11寸...\n",
       "3                     运行速度：最快ipad，系统流畅，真香，用个3-4年没问题。\n",
       "4                                   轻薄程度：全面屏，超薄，最好平板"
      ]
     },
     "execution_count": 23,
     "metadata": {},
     "output_type": "execute_result"
    }
   ],
   "source": [
    "text.rename(columns={0:'comment'},inplace=True)\n",
    "text.head()"
   ]
  },
  {
   "cell_type": "code",
   "execution_count": 24,
   "metadata": {},
   "outputs": [
    {
     "data": {
      "text/html": [
       "<div>\n",
       "<style scoped>\n",
       "    .dataframe tbody tr th:only-of-type {\n",
       "        vertical-align: middle;\n",
       "    }\n",
       "\n",
       "    .dataframe tbody tr th {\n",
       "        vertical-align: top;\n",
       "    }\n",
       "\n",
       "    .dataframe thead th {\n",
       "        text-align: right;\n",
       "    }\n",
       "</style>\n",
       "<table border=\"1\" class=\"dataframe\">\n",
       "  <thead>\n",
       "    <tr style=\"text-align: right;\">\n",
       "      <th></th>\n",
       "      <th>comment</th>\n",
       "      <th>sentiment</th>\n",
       "    </tr>\n",
       "  </thead>\n",
       "  <tbody>\n",
       "    <tr>\n",
       "      <th>0</th>\n",
       "      <td>做工非常精细，用料考究，关键还与时俱进地用了usb-c的接口，充电和传输文件就方便多了，屏幕...</td>\n",
       "      <td>1.000000</td>\n",
       "    </tr>\n",
       "    <tr>\n",
       "      <th>1</th>\n",
       "      <td>外观材质：手感细腻，铝感明显，还是需要加个套，防滑安全。</td>\n",
       "      <td>0.998992</td>\n",
       "    </tr>\n",
       "    <tr>\n",
       "      <th>2</th>\n",
       "      <td>屏幕效果：屏幕分辨率不错，从ipad mini3来的，刚觉瞬间秒杀，看电视办公都不错，11寸...</td>\n",
       "      <td>0.999676</td>\n",
       "    </tr>\n",
       "    <tr>\n",
       "      <th>3</th>\n",
       "      <td>运行速度：最快ipad，系统流畅，真香，用个3-4年没问题。</td>\n",
       "      <td>0.993141</td>\n",
       "    </tr>\n",
       "    <tr>\n",
       "      <th>4</th>\n",
       "      <td>轻薄程度：全面屏，超薄，最好平板</td>\n",
       "      <td>0.997760</td>\n",
       "    </tr>\n",
       "  </tbody>\n",
       "</table>\n",
       "</div>"
      ],
      "text/plain": [
       "                                             comment  sentiment\n",
       "0  做工非常精细，用料考究，关键还与时俱进地用了usb-c的接口，充电和传输文件就方便多了，屏幕...   1.000000\n",
       "1                       外观材质：手感细腻，铝感明显，还是需要加个套，防滑安全。   0.998992\n",
       "2  屏幕效果：屏幕分辨率不错，从ipad mini3来的，刚觉瞬间秒杀，看电视办公都不错，11寸...   0.999676\n",
       "3                     运行速度：最快ipad，系统流畅，真香，用个3-4年没问题。   0.993141\n",
       "4                                   轻薄程度：全面屏，超薄，最好平板   0.997760"
      ]
     },
     "execution_count": 24,
     "metadata": {},
     "output_type": "execute_result"
    }
   ],
   "source": [
    "def get_sentiment(sentence):\n",
    "    s = SnowNLP(sentence)\n",
    "    return s.sentiments\n",
    "text['sentiment']=text.comment.apply(get_sentiment)\n",
    "text.head()"
   ]
  },
  {
   "cell_type": "code",
   "execution_count": 27,
   "metadata": {},
   "outputs": [],
   "source": [
    "import matplotlib as plt\n",
    "plt.rcParams['font.sans-serif'] = ['SimHei'] # 指定默认字体为黑体\n",
    "plt.rcParams['axes.unicode_minus'] = False # 解决保存图像是负号'-'显示为方块的问题"
   ]
  },
  {
   "cell_type": "code",
   "execution_count": 33,
   "metadata": {},
   "outputs": [
    {
     "data": {
      "text/plain": [
       "<AxesSubplot:ylabel='sentiment'>"
      ]
     },
     "execution_count": 33,
     "metadata": {},
     "output_type": "execute_result"
    },
    {
     "data": {
      "image/png": "[encoded data removed]",
      "text/plain": [
       "<Figure size 432x288 with 1 Axes>"
      ]
     },
     "metadata": {
      "needs_background": "light"
     },
     "output_type": "display_data"
    }
   ],
   "source": [
    "import seaborn as sns\n",
    "sns.lineplot(x=text.index,y='sentiment',data=text)"
   ]
  },
  {
   "cell_type": "code",
   "execution_count": 31,
   "metadata": {},
   "outputs": [
    {
     "data": {
      "text/plain": [
       "150     0.000020\n",
       "577     0.000216\n",
       "1337    0.000301\n",
       "563     0.000456\n",
       "2427    0.000764\n",
       "          ...   \n",
       "233     1.000000\n",
       "1204    1.000000\n",
       "45      1.000000\n",
       "545     1.000000\n",
       "0       1.000000\n",
       "Name: sentiment, Length: 3153, dtype: float64"
      ]
     },
     "execution_count": 31,
     "metadata": {},
     "output_type": "execute_result"
    }
   ],
   "source": [
    "text.sentiment.sort_values()"
   ]
  }
 ],
 "metadata": {
  "kernelspec": {
   "display_name": "Python 3",
   "language": "python",
   "name": "python3"
  },
  "language_info": {
   "codemirror_mode": {
    "name": "ipython",
    "version": 3
   },
   "file_extension": ".py",
   "mimetype": "text/x-python",
   "name": "python",
   "nbconvert_exporter": "python",
   "pygments_lexer": "ipython3",
   "version": "3.7.6"
  }
 },
 "nbformat": 4,
 "nbformat_minor": 4
}
